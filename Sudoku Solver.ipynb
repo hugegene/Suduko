{
 "cells": [
  {
   "cell_type": "code",
   "execution_count": 4,
   "metadata": {
    "collapsed": true
   },
   "outputs": [],
   "source": [
    "import copy\n",
    "\n",
    "# board = [\n",
    "#     \".........\",\n",
    "#     \".........\",\n",
    "#     \".........\",\n",
    "#     \".........\",\n",
    "#     \".........\",\n",
    "#     \".........\",\n",
    "#     \".........\",\n",
    "#     \".........\",\n",
    "#     \".........\"\n",
    "# ]\n",
    "\n",
    "# board = [\n",
    "    # \".........\",\n",
    "    # \"5.3.67...\",\n",
    "    # \"9..3421..\",\n",
    "    # \".....4...\",\n",
    "    # \"..1...72.\",\n",
    "    # \"..2.1....\",\n",
    "    # \".3......9\",\n",
    "    # \".8.1..2..\",\n",
    "    # \"...75.8.6\"\n",
    "# ]\n",
    "## Suduko Board in Python\n",
    "board = [\n",
    "    \"6..874.1.\",\n",
    "    \"..9.36...\",\n",
    "    \"...19.8..\",\n",
    "    \"7946.....\",\n",
    "    \"..1.894..\",\n",
    "    \"...41..69\",\n",
    "    \".7..5..9.\",\n",
    "    \".539.76..\",\n",
    "    \"9.2.61.47\"\n",
    "]"
   ]
  },
  {
   "cell_type": "code",
   "execution_count": 13,
   "metadata": {
    "collapsed": true
   },
   "outputs": [],
   "source": [
    " ##First Function: Find possible values for any missing value(i,j)\n",
    "def getPossibilities(i,j):\n",
    "    global board\n",
    "    if board[i][j] != \".\":\n",
    "        return False\n",
    "    \n",
    "    ##starting possible values for missing value(i,j) is 1-9\n",
    "    possibilities = {str(n) for n in range(1,10)}\n",
    "    \n",
    "    #check every column values in row i for presence of 1-9 and delete them from possibilities\n",
    "    for val in board[i]:\n",
    "        possibilities -= set(val)\n",
    "    \n",
    "    #check every row value in column j for presence of 1-9 and delete them from possibilities   \n",
    "    for idx in range(0,9):\n",
    "        possibilities -= set( board[idx][j] )\n",
    "    \n",
    "    #find square where missing value (i,j) is in and check in the square for presence of 1-9 and delete them from possibilities\n",
    "    iStart = (i // 3) * 3\n",
    "    jStart = (j // 3) * 3\n",
    "    \n",
    "    subboard = board[iStart:iStart+3]\n",
    "    for idx,row in enumerate(subboard):\n",
    "        subboard[idx] = row[jStart:jStart+3]\n",
    "    \n",
    "    for row in subboard:\n",
    "        for col in row:\n",
    "            possibilities -= set(col)\n",
    "      \n",
    "    ##return possible values for missing value(i,j)\n",
    "    return list(possibilities)"
   ]
  },
  {
   "cell_type": "code",
   "execution_count": 14,
   "metadata": {
    "collapsed": true
   },
   "outputs": [],
   "source": [
    " ##Second Function: Fill all missing values that have only 1 possibility\n",
    "def fillAllObvious():\n",
    "    global board\n",
    "    while True:\n",
    "        somethingChanged = False\n",
    "        \n",
    "        ##looping through the board to get possibilites\n",
    "        for i in range(0,9):\n",
    "            for j in range(0,9):\n",
    "                \n",
    "                possibilities = getPossibilities(i,j)\n",
    "                \n",
    "                ##value is not missing\n",
    "                if possibilities == False:\n",
    "                    continue\n",
    "                    \n",
    "                ##there is not possiblities\n",
    "                if len(possibilities) == 0:\n",
    "                    raise RuntimeError(\"No moves left\")\n",
    "                    \n",
    "                ##there is only 1 possibility\n",
    "                if len(possibilities) == 1:\n",
    "                    board[i][j] = possibilities[0]\n",
    "                    somethingChanged = True\n",
    "                    \n",
    "        if somethingChanged == False:\n",
    "            return"
   ]
  },
  {
   "cell_type": "code",
   "execution_count": 15,
   "metadata": {
    "collapsed": true
   },
   "outputs": [],
   "source": [
    "def solve():\n",
    "    global board\n",
    "   \n",
    "    ## Step 1: Fill all missing values with only 1 possibility\n",
    "    try:\n",
    "        fillAllObvious()\n",
    "    except:\n",
    "        return False\n",
    "    \n",
    "    ## Step 2: Check if the suduko puzzle is solved \n",
    "    if isComplete():\n",
    "        return True\n",
    "    \n",
    "    ## Step 3: If its not solved, the fuctions prepares calls itself(recusion) to solve the Suduko puzzle\n",
    "    ## save the position of the missing value in the board\n",
    "    i,j = 0,0\n",
    "    for rowIdx,row in enumerate(board):\n",
    "        for colIdx,col in enumerate(row):\n",
    "            if col == \".\":\n",
    "                i,j = rowIdx, colIdx\n",
    "                \n",
    "    ## Step 4: Get the possibilites for the particular missing value     \n",
    "    possibilities = getPossibilities(i,j)\n",
    "    \n",
    "    ## Step5: Recusion starts   \n",
    "    for value in possibilities:\n",
    "        snapshot = copy.deepcopy(board)\n",
    "        board[i][j] = value\n",
    "        result = solve()\n",
    "        if result == True:\n",
    "            return True\n",
    "        else:\n",
    "            board = copy.deepcopy(snapshot)\n",
    "            \n",
    "    return False "
   ]
  },
  {
   "cell_type": "code",
   "execution_count": 16,
   "metadata": {
    "collapsed": true
   },
   "outputs": [],
   "source": [
    "def isComplete():\n",
    "    for row in board:\n",
    "        for col in row:\n",
    "            if (col == \".\"):\n",
    "                return False\n",
    "                \n",
    "    return True"
   ]
  },
  {
   "cell_type": "code",
   "execution_count": 17,
   "metadata": {
    "collapsed": true
   },
   "outputs": [],
   "source": [
    "def main():\n",
    "    global board\n",
    "    for idx,line in enumerate(board):\n",
    "        board[idx] = list(line)\n",
    "        \n",
    "    solve()\n",
    "    printBoard()\n",
    "  "
   ]
  },
  {
   "cell_type": "code",
   "execution_count": 18,
   "metadata": {
    "collapsed": true
   },
   "outputs": [],
   "source": [
    "def printBoard():\n",
    "    global board\n",
    "    for row in board:\n",
    "        for col in row:\n",
    "            print(col, end=\"\")\n",
    "        print(\"\")"
   ]
  },
  {
   "cell_type": "code",
   "execution_count": 22,
   "metadata": {
    "scrolled": true
   },
   "outputs": [
    {
     "name": "stdout",
     "output_type": "stream",
     "text": [
      "625874913\n",
      "819536274\n",
      "347192856\n",
      "794623185\n",
      "561789432\n",
      "238415769\n",
      "476258391\n",
      "153947628\n",
      "982361547\n"
     ]
    }
   ],
   "source": [
    "main()"
   ]
  }
 ],
 "metadata": {
  "kernelspec": {
   "display_name": "Python 3",
   "language": "python",
   "name": "python3"
  },
  "language_info": {
   "codemirror_mode": {
    "name": "ipython",
    "version": 3
   },
   "file_extension": ".py",
   "mimetype": "text/x-python",
   "name": "python",
   "nbconvert_exporter": "python",
   "pygments_lexer": "ipython3",
   "version": "3.6.3"
  }
 },
 "nbformat": 4,
 "nbformat_minor": 2
}
